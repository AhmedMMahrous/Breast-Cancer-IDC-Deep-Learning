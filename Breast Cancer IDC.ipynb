{
 "cells": [
  {
   "cell_type": "markdown",
   "metadata": {},
   "source": [
    "<div style=\"\n",
    "           display:fill;\n",
    "           border-radius:30px;\n",
    "           border-style: solid;\n",
    "           border-color:#C1C1C1;\n",
    "           background-color:#373737;\n",
    "           font-size:20px;\n",
    "           font-family:Verdana;\n",
    "           letter-spacing:0.5px\">\n",
    "    <h1 class=\"title\" style=\"font-size:80px; text-align: center;padding: 5px; color:#00BFFF;\">\n",
    "            <span style=\"\n",
    "                margin-right: -5px;\n",
    "                transition: 0.4s;\n",
    "                     \"\n",
    "              onMouseOver=\"this.style.fontSize = '1.5em'\" onMouseOut= \"this.style.fontSize = '1em'\">B</span>\n",
    "            <span style=\"\n",
    "                margin-right: -5px;\n",
    "                transition: 0.4s;\n",
    "                     \"\n",
    "              onMouseOver=\"this.style.fontSize = '1.5em'\" onMouseOut= \"this.style.fontSize = '1em'\">r</span>\n",
    "            <span style=\"\n",
    "                margin-right: -5px;\n",
    "                transition: 0.4s;\n",
    "                     \"\n",
    "              onMouseOver=\"this.style.fontSize = '1.5em'\" onMouseOut= \"this.style.fontSize = '1em'\">e</span>\n",
    "            <span style=\"\n",
    "                margin-right: -5px;\n",
    "                transition: 0.4s;\n",
    "                     \"\n",
    "              onMouseOver=\"this.style.fontSize = '1.5em'\" onMouseOut= \"this.style.fontSize = '1em'\">a</span>\n",
    "            <span style=\"\n",
    "                margin-right: -5px;\n",
    "                transition: 0.4s;\n",
    "                     \"\n",
    "              onMouseOver=\"this.style.fontSize = '1.5em'\" onMouseOut= \"this.style.fontSize = '1em'\">s</span>\n",
    "            <span style=\"\n",
    "                margin-right: -5px;\n",
    "                transition: 0.4s;\n",
    "                     \"\n",
    "              onMouseOver=\"this.style.fontSize = '1.5em'\" onMouseOut= \"this.style.fontSize = '1em'\">t</span>\n",
    "            <span style=\"\n",
    "                margin-right: -5px;\n",
    "                transition: 0.4s;\n",
    "                     \"\n",
    "              onMouseOver=\"this.style.fontSize = '1.5em'\" onMouseOut= \"this.style.fontSize = '1em'\">C</span>\n",
    "            <span style=\"\n",
    "                    margin-right: -5px;\n",
    "                    transition: 0.4s;\n",
    "                         \"\n",
    "                  onMouseOver=\"this.style.fontSize = '1.5em'\" onMouseOut= \"this.style.fontSize = '1em'\">a</span>\n",
    "            <span style=\"\n",
    "                    margin-right: -5px;\n",
    "                    transition: 0.4s;\n",
    "                         \"\n",
    "                  onMouseOver=\"this.style.fontSize = '1.5em'\" onMouseOut= \"this.style.fontSize = '1em'\">n</span>\n",
    "            <span style=\"\n",
    "                    margin-right: -5px;\n",
    "                    transition: 0.4s;\n",
    "                        \"\n",
    "                    onMouseOver=\"this.style.fontSize = '1.5em'\" onMouseOut= \"this.style.fontSize = '1em'\">c</span>\n",
    "            <span style=\"\n",
    "                    margin-right: -5px;\n",
    "                    transition: 0.4s;\n",
    "                         \"\n",
    "                    onMouseOver=\"this.style.fontSize = '1.5em'\" onMouseOut= \"this.style.fontSize = '1em'\">e</span>\n",
    "            <span style=\"\n",
    "                    margin-right: -5px;\n",
    "                    transition: 0.4s;\n",
    "                        \"\n",
    "                    onMouseOver=\"this.style.fontSize = '1.5em'\" onMouseOut= \"this.style.fontSize = '1em'\">r</span>\n",
    "            <span style=\"\n",
    "                    margin-right: -5px;\n",
    "                    transition: 0.4s;\n",
    "                        \"     \n",
    "   </h1>\n",
    "</div>"
   ]
  },
  {
   "cell_type": "markdown",
   "metadata": {},
   "source": [
    "<p style = \"font-size : 20px; color : white ; font-family : 'Verdana'; \"><strong>Inasive ductal carcinoma (IDC) is - with ~ 80 % of cases - one of the most common types of breast cancer. It's malicious and able to form metastases which makes it especially dangerous. Often a biopsy is done to remove small tissue samples. Then a pathologist has to decide whether a patient has IDC, another type of breast cancer or is healthy. In addition sick cells need to be located to find out how advanced the disease is and which grade should be assigned. This has to be done manually and is a time consuming process. Furthermore the decision depends on the expertise of the pathologist and his or her equipment. Therefor deep learning could be of great help to automatically detect and locate tumor tissue cells and to speed up the process. In order to exploit the full potential one could build a pipeline using massive amounts of tissue image data of various hospitals that were evaluated by different experts. This way one would be able to overcome the dependence on the pathologist which would be especially useful in regions where no experts are available.</strong></p> "
   ]
  },
  {
   "cell_type": "markdown",
   "metadata": {},
   "source": [
    "<p style = \"font-size : 20px; color : white ; font-family : 'Verdana'; \"><strong>\n",
    "   Breast cancer is the second leading cause of cancer deaths among U.S. women, it is a type of cancer that starts when cells begin to grow out of control\n",
    "Most breast cancers begin in the ducts that carry milk to the nipple (ductal cancers),\n",
    "Breast cancer can spread when the cancer cells get into the blood or lymph system and are carried to other parts of the body.\n",
    "Cancerous breast tumors are detected by a special type of examination, which is screening mammogram </strong></p> "
   ]
  },
  {
   "cell_type": "markdown",
   "metadata": {},
   "source": [
    "![download.jpg ](https://i.postimg.cc/BZxGHDfD/download.jpg)"
   ]
  },
  {
   "cell_type": "markdown",
   "metadata": {},
   "source": [
    "<p style = \"font-size : 20px; color : white ; font-family : 'Verdana'; \"><strong>Detection of breast cancer on screening mammography is challenging as an image classification task because the tumors themselves occupy only a small portion of the image of the entire breast. For example, a full-field digital mammography (FFDM) image is typically 4000 × 3000 pixels while a potentially cancerous region of interest (ROI) can be as small as 100 × 100 pixels.</strong></p> "
   ]
  },
  {
   "cell_type": "markdown",
   "metadata": {},
   "source": [
    "<p style = \"font-size : 20px; color : white ; font-family : 'Verdana'; \"><strong>Our goal:\n",
    "   </strong></p> \n",
    "Given a patient and a patch of a tissue slice predict wheather it contains IDC or not.\n",
    "\n"
   ]
  },
  {
   "cell_type": "markdown",
   "metadata": {},
   "source": [
    "<p style = \"font-size : 30px; color : white ; font-family : 'Comic Sans MS'; text-align : center; background-color : #00adb5; border-radius: 5px 5px;\"><strong>Table of Contents</strong></p>\n",
    "<a id = '0.0'></a>\n",
    "\n",
    "\n",
    "\n",
    "* [Details about the dataset](#1.0)\n",
    "* [Importing libraries](#2.0)\n",
    "* [Importing dataset](#3.0)\n",
    "* [Basic Data Exploration(Understanding the Dataset)](#4.0)\n",
    "* [Data Processing](#5.0)\n",
    "* [Exploratory Data Analysis (EDA)](#6.0)\n",
    "* [Creating train and test sets](#7.0)\n",
    "* [Creating Directory Structure](#8.0)\n",
    "* [Transfer the images into the folders](#9.0)\n",
    "* [Set Up the Generators](#10.0)\n",
    "* [Model design](#11.0)\n",
    "* [Training the model](#12.0)\n",
    "* [Outputs](#13.0)\n",
    "* [Plot the Training Curves](#14.0)\n",
    "* [Save Model](#15.0)"
   ]
  },
  {
   "cell_type": "markdown",
   "metadata": {},
   "source": [
    "<p style = \"font-size : 30px; color : white ; font-family : 'Comic Sans MS'; text-align : center; background-color : #00adb5; border-radius: 5px 5px;\"><strong>Details about the dataset</strong></p>\n",
    "<a id = '1.0'></a>"
   ]
  },
  {
   "cell_type": "markdown",
   "metadata": {},
   "source": [
    "<p style = \"font-size : 20px; color : white ; font-family : 'Verdana'; \"><strong>Context\n",
    "   </strong></p> \n",
    "   \n",
    "Invasive Ductal Carcinoma (IDC) is the most common subtype of all breast cancers. To assign an aggressiveness grade to a whole mount sample, pathologists typically focus on the regions which contain the IDC. As a result, one of the common pre-processing steps for automatic aggressiveness grading is to delineate the exact regions of IDC inside of a whole mount slide.\n",
    "\n",
    "<p style = \"font-size : 20px; color : white ; font-family : 'Verdana'; \"><strong>Content\n",
    "   </strong></p> \n",
    "The original dataset consisted of 162 whole mount slide images of Breast Cancer (BCa) specimens scanned at 40x. From that, 277,524 patches of size 50 x 50 were extracted (198,738 IDC negative and 78,786 IDC positive). Each patch’s file name is of the format: uxXyYclassC.png — > example 10253idx5x1351y1101class0.png . Where u is the patient ID (10253idx5), X is the x-coordinate of where this patch was cropped from, Y is the y-coordinate of where this patch was cropped from, and C indicates the class where 0 is non-IDC and 1 is IDC.\n",
    "\n",
    "<p style = \"font-size : 20px; color : white ; font-family : 'Verdana'; \"><strong>Acknowledgements\n",
    "   </strong></p>\n",
    "The original files are located here: http://gleason.case.edu/webdata/jpi-dl-tutorial/IDC_regular_ps50_idx5.zip\n",
    "Citation: https://www.ncbi.nlm.nih.gov/pubmed/27563488 and http://spie.org/Publications/Proceedings/Paper/10.1117/12.2043872\n",
    "\n",
    "<p style = \"font-size : 20px; color : white ; font-family : 'Verdana'; \"><strong>Inspiration\n",
    "   </strong></p>\n",
    "Breast cancer is the most common form of cancer in women, and invasive ductal carcinoma (IDC) is the most common form of breast cancer. Accurately identifying and categorizing breast cancer subtypes is an important clinical task, and automated methods can be used to save time and reduce error."
   ]
  },
  {
   "cell_type": "markdown",
   "metadata": {},
   "source": [
    "<p style = \"font-size : 30px; color : white ; font-family : 'Comic Sans MS'; text-align : center; background-color : #00adb5; border-radius: 5px 5px;\"><strong>Importing libaraies</strong></p>\n",
    "<a id = '2.0'></a>"
   ]
  },
  {
   "cell_type": "code",
   "execution_count": 1,
   "metadata": {},
   "outputs": [],
   "source": [
    "import os\n",
    "import numpy as np\n",
    "import shutil\n",
    "import cv2\n",
    "import pandas as pd\n",
    "import matplotlib.pyplot as plt\n",
    "import seaborn as sns\n",
    "import warnings\n",
    "warnings.filterwarnings(\"ignore\")\n",
    "plt.style.use('fivethirtyeight')\n",
    "import itertools\n",
    "from skimage.filters import gaussian\n",
    "from skimage.util import random_noise\n",
    "import matplotlib.image as mpimg\n",
    "from sklearn.model_selection import train_test_split\n",
    "from tensorflow.keras.optimizers import Adam\n",
    "import tensorflow\n",
    "from tensorflow.keras.preprocessing.image import ImageDataGenerator\n",
    "from tensorflow.keras.models import Sequential\n",
    "from tensorflow.keras.callbacks import EarlyStopping, ReduceLROnPlateau, ModelCheckpoint\n",
    "from tensorflow.keras.layers import Dense\n",
    "from tensorflow.keras.layers import Conv2D\n",
    "from tensorflow.keras.layers import MaxPool2D,Dropout,MaxPooling2D\n",
    "from tensorflow.keras.layers import Flatten\n",
    "from tensorflow.keras.callbacks import EarlyStopping,ModelCheckpoint"
   ]
  },
  {
   "cell_type": "markdown",
   "metadata": {},
   "source": [
    "<p style = \"font-size : 30px; color : white ; font-family : 'Comic Sans MS'; text-align : center; background-color : #00adb5; border-radius: 5px 5px;\"><strong>Importing dataset</strong></p>\n",
    "<a id = '3.0'></a>"
   ]
  },
  {
   "cell_type": "code",
   "execution_count": 2,
   "metadata": {},
   "outputs": [],
   "source": [
    "path = 'C:/Users/Ahmed M Mahrous/Desktop/Graduation Project/Breast Cancer Data'"
   ]
  },
  {
   "cell_type": "markdown",
   "metadata": {},
   "source": [
    "<p style = \"font-size : 30px; color : white ; font-family : 'Comic Sans MS'; text-align : center; background-color : #00adb5; border-radius: 5px 5px;\"><strong>Basic Data Exploration(Understanding the Dataset)</strong></p>\n",
    "<a id = '4.0'></a>\n"
   ]
  },
  {
   "cell_type": "code",
   "execution_count": 3,
   "metadata": {},
   "outputs": [
    {
     "data": {
      "text/plain": [
       "['10253',\n",
       " '10254',\n",
       " '10255',\n",
       " '10256',\n",
       " '10257',\n",
       " '10258',\n",
       " '10259',\n",
       " '10260',\n",
       " '10261',\n",
       " '10262',\n",
       " '10264',\n",
       " '10268',\n",
       " '10269',\n",
       " '10272',\n",
       " '10273',\n",
       " '10274',\n",
       " '10275',\n",
       " '10276',\n",
       " '10277',\n",
       " '10278',\n",
       " '10279',\n",
       " '10282',\n",
       " '10285',\n",
       " '10286',\n",
       " '10288',\n",
       " '10290',\n",
       " '10291',\n",
       " '10292',\n",
       " '10293',\n",
       " '10295',\n",
       " '10299',\n",
       " '10300',\n",
       " '10301',\n",
       " '10302',\n",
       " '10303',\n",
       " '10304',\n",
       " '10305',\n",
       " '10306',\n",
       " '10307',\n",
       " '10308',\n",
       " '12241',\n",
       " '12242',\n",
       " '12626',\n",
       " '12748',\n",
       " '12749',\n",
       " '12750',\n",
       " '12751',\n",
       " '12752',\n",
       " '12810',\n",
       " '12811',\n",
       " '12817',\n",
       " '12818',\n",
       " '12819',\n",
       " '12820',\n",
       " '12821',\n",
       " '12822',\n",
       " '12823',\n",
       " '12824',\n",
       " '12826',\n",
       " '12867',\n",
       " '12868',\n",
       " '12869',\n",
       " '12870',\n",
       " '12871',\n",
       " '12872',\n",
       " '12873',\n",
       " '12875',\n",
       " '12876',\n",
       " '12877',\n",
       " '12878',\n",
       " '12879',\n",
       " '12880',\n",
       " '12881',\n",
       " '12882',\n",
       " '12883',\n",
       " '12884',\n",
       " '12886',\n",
       " '12890',\n",
       " '12891',\n",
       " '12892',\n",
       " '12893',\n",
       " '12894',\n",
       " '12895',\n",
       " '12896',\n",
       " '12897',\n",
       " '12898',\n",
       " '12900',\n",
       " '12901',\n",
       " '12905',\n",
       " '12906',\n",
       " '12907',\n",
       " '12908',\n",
       " '12909',\n",
       " '12910',\n",
       " '12911',\n",
       " '12929',\n",
       " '12930',\n",
       " '12931',\n",
       " '12932',\n",
       " '12933',\n",
       " '12934',\n",
       " '12935',\n",
       " '12947',\n",
       " '12948',\n",
       " '12949',\n",
       " '12951',\n",
       " '12954',\n",
       " '12955',\n",
       " '13018',\n",
       " '13019',\n",
       " '13020',\n",
       " '13021',\n",
       " '13022',\n",
       " '13023',\n",
       " '13024',\n",
       " '13025',\n",
       " '13106',\n",
       " '13400',\n",
       " '13401',\n",
       " '13402',\n",
       " '13403',\n",
       " '13404',\n",
       " '13458',\n",
       " '13459',\n",
       " '13460',\n",
       " '13461',\n",
       " '13462',\n",
       " '13591',\n",
       " '13613',\n",
       " '13616',\n",
       " '13617',\n",
       " '13666',\n",
       " '13687',\n",
       " '13688',\n",
       " '13689',\n",
       " '13691',\n",
       " '13692',\n",
       " '13693',\n",
       " '13694',\n",
       " '13916',\n",
       " '14078',\n",
       " '14079',\n",
       " '14081',\n",
       " '14082',\n",
       " '14153',\n",
       " '14154',\n",
       " '14155',\n",
       " '14156',\n",
       " '14157',\n",
       " '14188',\n",
       " '14189',\n",
       " '14190',\n",
       " '14191',\n",
       " '14192',\n",
       " '14209',\n",
       " '14210',\n",
       " '14211',\n",
       " '14212',\n",
       " '14213',\n",
       " '14304',\n",
       " '14305',\n",
       " '14306',\n",
       " '14321',\n",
       " '15471',\n",
       " '15472',\n",
       " '15473',\n",
       " '15510',\n",
       " '15512',\n",
       " '15513',\n",
       " '15514',\n",
       " '15515',\n",
       " '15516',\n",
       " '15632',\n",
       " '15633',\n",
       " '15634',\n",
       " '15839',\n",
       " '15840',\n",
       " '15902',\n",
       " '15903',\n",
       " '16014',\n",
       " '16085',\n",
       " '16165',\n",
       " '16166',\n",
       " '16167',\n",
       " '16531',\n",
       " '16532',\n",
       " '16533',\n",
       " '16534',\n",
       " '16550',\n",
       " '16551',\n",
       " '16552',\n",
       " '16553',\n",
       " '16554',\n",
       " '16555',\n",
       " '16568',\n",
       " '16569',\n",
       " '16570',\n",
       " '16895',\n",
       " '16896',\n",
       " '8863',\n",
       " '8864',\n",
       " '8865',\n",
       " '8867',\n",
       " '8913',\n",
       " '8914',\n",
       " '8916',\n",
       " '8917',\n",
       " '8918',\n",
       " '8950',\n",
       " '8951',\n",
       " '8955',\n",
       " '8956',\n",
       " '8957',\n",
       " '8959',\n",
       " '8974',\n",
       " '8975',\n",
       " '8980',\n",
       " '8984',\n",
       " '9022',\n",
       " '9023',\n",
       " '9029',\n",
       " '9035',\n",
       " '9036',\n",
       " '9037',\n",
       " '9041',\n",
       " '9043',\n",
       " '9044',\n",
       " '9073',\n",
       " '9075',\n",
       " '9076',\n",
       " '9077',\n",
       " '9078',\n",
       " '9081',\n",
       " '9083',\n",
       " '9123',\n",
       " '9124',\n",
       " '9125',\n",
       " '9126',\n",
       " '9135',\n",
       " '9173',\n",
       " '9174',\n",
       " '9175',\n",
       " '9176',\n",
       " '9177',\n",
       " '9178',\n",
       " '9181',\n",
       " '9225',\n",
       " '9226',\n",
       " '9227',\n",
       " '9228',\n",
       " '9250',\n",
       " '9254',\n",
       " '9255',\n",
       " '9256',\n",
       " '9257',\n",
       " '9258',\n",
       " '9259',\n",
       " '9260',\n",
       " '9261',\n",
       " '9262',\n",
       " '9265',\n",
       " '9266',\n",
       " '9267',\n",
       " '9290',\n",
       " '9291',\n",
       " '9319',\n",
       " '9320',\n",
       " '9321',\n",
       " '9322',\n",
       " '9323',\n",
       " '9324',\n",
       " '9325',\n",
       " '9344',\n",
       " '9345',\n",
       " '9346',\n",
       " '9347',\n",
       " '9381',\n",
       " '9382',\n",
       " '9383']"
      ]
     },
     "execution_count": 3,
     "metadata": {},
     "output_type": "execute_result"
    }
   ],
   "source": [
    "os.listdir(path)"
   ]
  },
  {
   "cell_type": "code",
   "execution_count": 5,
   "metadata": {},
   "outputs": [
    {
     "data": {
      "text/plain": [
       "279"
      ]
     },
     "execution_count": 5,
     "metadata": {},
     "output_type": "execute_result"
    }
   ],
   "source": [
    "# Check the number of patient folders.\n",
    "\n",
    "patients = os.listdir(path)\n",
    "\n",
    "len(patients)"
   ]
  },
  {
   "cell_type": "markdown",
   "metadata": {},
   "source": [
    "<p style = \"font-size : 20px; color : white ; font-family : 'Verdana'; \"><strong>The images are grouped into 279 folders by patient_id. Each patient folder has two sub-folders that groups together images with the same class --> 0 or 1. There are a lot of folders to work with.</strong></p> "
   ]
  },
  {
   "cell_type": "markdown",
   "metadata": {},
   "source": [
    "<p style = \"font-size : 20px; color : white ; font-family : 'Verdana'; \"><strong>Copy all images into one directory</strong></p> \n",
    "This will make it easier to work with this data"
   ]
  },
  {
   "cell_type": "markdown",
   "metadata": {},
   "source": [
    "* This code copies all images from their seperate folders into the same folder called all_images_dir."
   ]
  },
  {
   "cell_type": "code",
   "execution_count": 4,
   "metadata": {},
   "outputs": [],
   "source": [
    "# Create a new directory to store all available images\n",
    "all_images_dir = 'all_images_dir'\n",
    "os.mkdir(all_images_dir)"
   ]
  },
  {
   "cell_type": "code",
   "execution_count": 5,
   "metadata": {},
   "outputs": [],
   "source": [
    "# Create a list with all the patient id numbers.\n",
    "# Each patient id folder has 2 sub folders --> folder 0 and folder 1\n",
    "\n",
    "# Example:\n",
    "    # '10285'\n",
    "        # '0'\n",
    "        # '1'\n",
    "\n",
    "# create a list of all patient id's\n",
    "patient_list = os.listdir('C:/Users/Ahmed M Mahrous/Desktop/Graduation Project/Breast Cancer Data')\n",
    "\n",
    "for patient in patient_list:\n",
    "    \n",
    "    path_0 = 'C:/Users/Ahmed M Mahrous/Desktop/Graduation Project/Breast Cancer Data/' + str(patient) + '/0'\n",
    "    path_1 = 'C:/Users/Ahmed M Mahrous/Desktop/Graduation Project/Breast Cancer Data/' + str(patient) + '/1'\n",
    "\n",
    "\n",
    "    # create a list of all files in folder 0\n",
    "    file_list_0 = os.listdir(path_0)\n",
    "    # create a list of list all file in folder 1\n",
    "    file_list_1 = os.listdir(path_1)\n",
    "\n",
    "    # move the 0 images to all_images_dir\n",
    "    for fname in file_list_0:\n",
    "\n",
    "        # source path to image\n",
    "        src = os.path.join(path_0, fname)\n",
    "        # destination path to image\n",
    "        dst = os.path.join(all_images_dir, fname)\n",
    "        # copy the image from the source to the destination\n",
    "        shutil.copyfile(src, dst)\n",
    "\n",
    "\n",
    "    # move the 1 images to all_images_dir\n",
    "    for fname in file_list_1:\n",
    "\n",
    "        # source path to image\n",
    "        src = os.path.join(path_1, fname)\n",
    "        # destination path to image\n",
    "        dst = os.path.join(all_images_dir, fname)\n",
    "        # copy the image from the source to the destination\n",
    "        shutil.copyfile(src, dst)"
   ]
  },
  {
   "cell_type": "markdown",
   "metadata": {},
   "source": [
    "#### check how many images are in all_images_dir\n",
    "* should be 277,524\n",
    "\n",
    "* size: 2.5GB"
   ]
  },
  {
   "cell_type": "code",
   "execution_count": 8,
   "metadata": {},
   "outputs": [
    {
     "data": {
      "text/plain": [
       "277524"
      ]
     },
     "execution_count": 8,
     "metadata": {},
     "output_type": "execute_result"
    }
   ],
   "source": [
    "len(os.listdir('all_images_dir'))"
   ]
  },
  {
   "cell_type": "markdown",
   "metadata": {},
   "source": [
    "<p style = \"font-size : 30px; color : white ; font-family : 'Comic Sans MS'; text-align : center; background-color : #00adb5; border-radius: 5px 5px;\"><strong>Data Processing</strong></p>\n",
    "<a id = '5.0'></a>"
   ]
  },
  {
   "cell_type": "markdown",
   "metadata": {},
   "source": [
    "#### Create a dataframe containing all the information"
   ]
  },
  {
   "cell_type": "code",
   "execution_count": 6,
   "metadata": {},
   "outputs": [
    {
     "data": {
      "text/html": [
       "<div>\n",
       "<style scoped>\n",
       "    .dataframe tbody tr th:only-of-type {\n",
       "        vertical-align: middle;\n",
       "    }\n",
       "\n",
       "    .dataframe tbody tr th {\n",
       "        vertical-align: top;\n",
       "    }\n",
       "\n",
       "    .dataframe thead th {\n",
       "        text-align: right;\n",
       "    }\n",
       "</style>\n",
       "<table border=\"1\" class=\"dataframe\">\n",
       "  <thead>\n",
       "    <tr style=\"text-align: right;\">\n",
       "      <th></th>\n",
       "      <th>image_id</th>\n",
       "    </tr>\n",
       "  </thead>\n",
       "  <tbody>\n",
       "    <tr>\n",
       "      <th>0</th>\n",
       "      <td>10253_idx5_x1001_y1001_class0.png</td>\n",
       "    </tr>\n",
       "    <tr>\n",
       "      <th>1</th>\n",
       "      <td>10253_idx5_x1001_y1051_class0.png</td>\n",
       "    </tr>\n",
       "    <tr>\n",
       "      <th>2</th>\n",
       "      <td>10253_idx5_x1001_y1101_class0.png</td>\n",
       "    </tr>\n",
       "    <tr>\n",
       "      <th>3</th>\n",
       "      <td>10253_idx5_x1001_y1151_class0.png</td>\n",
       "    </tr>\n",
       "    <tr>\n",
       "      <th>4</th>\n",
       "      <td>10253_idx5_x1001_y1201_class0.png</td>\n",
       "    </tr>\n",
       "  </tbody>\n",
       "</table>\n",
       "</div>"
      ],
      "text/plain": [
       "                            image_id\n",
       "0  10253_idx5_x1001_y1001_class0.png\n",
       "1  10253_idx5_x1001_y1051_class0.png\n",
       "2  10253_idx5_x1001_y1101_class0.png\n",
       "3  10253_idx5_x1001_y1151_class0.png\n",
       "4  10253_idx5_x1001_y1201_class0.png"
      ]
     },
     "execution_count": 6,
     "metadata": {},
     "output_type": "execute_result"
    }
   ],
   "source": [
    "# Create a new directory to store all available images\n",
    "image_list = os.listdir('all_images_dir')\n",
    "\n",
    "data = pd.DataFrame(image_list, columns=['image_id'])\n",
    "\n",
    "data.head()"
   ]
  },
  {
   "cell_type": "markdown",
   "metadata": {},
   "source": [
    "#### Define Helper Functions"
   ]
  },
  {
   "cell_type": "code",
   "execution_count": 7,
   "metadata": {},
   "outputs": [
    {
     "data": {
      "text/html": [
       "<div>\n",
       "<style scoped>\n",
       "    .dataframe tbody tr th:only-of-type {\n",
       "        vertical-align: middle;\n",
       "    }\n",
       "\n",
       "    .dataframe tbody tr th {\n",
       "        vertical-align: top;\n",
       "    }\n",
       "\n",
       "    .dataframe thead th {\n",
       "        text-align: right;\n",
       "    }\n",
       "</style>\n",
       "<table border=\"1\" class=\"dataframe\">\n",
       "  <thead>\n",
       "    <tr style=\"text-align: right;\">\n",
       "      <th></th>\n",
       "      <th>image_id</th>\n",
       "      <th>patient_id</th>\n",
       "      <th>target</th>\n",
       "    </tr>\n",
       "  </thead>\n",
       "  <tbody>\n",
       "    <tr>\n",
       "      <th>0</th>\n",
       "      <td>10253_idx5_x1001_y1001_class0.png</td>\n",
       "      <td>10253</td>\n",
       "      <td>0</td>\n",
       "    </tr>\n",
       "    <tr>\n",
       "      <th>1</th>\n",
       "      <td>10253_idx5_x1001_y1051_class0.png</td>\n",
       "      <td>10253</td>\n",
       "      <td>0</td>\n",
       "    </tr>\n",
       "    <tr>\n",
       "      <th>2</th>\n",
       "      <td>10253_idx5_x1001_y1101_class0.png</td>\n",
       "      <td>10253</td>\n",
       "      <td>0</td>\n",
       "    </tr>\n",
       "    <tr>\n",
       "      <th>3</th>\n",
       "      <td>10253_idx5_x1001_y1151_class0.png</td>\n",
       "      <td>10253</td>\n",
       "      <td>0</td>\n",
       "    </tr>\n",
       "    <tr>\n",
       "      <th>4</th>\n",
       "      <td>10253_idx5_x1001_y1201_class0.png</td>\n",
       "      <td>10253</td>\n",
       "      <td>0</td>\n",
       "    </tr>\n",
       "    <tr>\n",
       "      <th>5</th>\n",
       "      <td>10253_idx5_x1001_y1251_class0.png</td>\n",
       "      <td>10253</td>\n",
       "      <td>0</td>\n",
       "    </tr>\n",
       "    <tr>\n",
       "      <th>6</th>\n",
       "      <td>10253_idx5_x1001_y1301_class0.png</td>\n",
       "      <td>10253</td>\n",
       "      <td>0</td>\n",
       "    </tr>\n",
       "    <tr>\n",
       "      <th>7</th>\n",
       "      <td>10253_idx5_x1001_y1351_class0.png</td>\n",
       "      <td>10253</td>\n",
       "      <td>0</td>\n",
       "    </tr>\n",
       "    <tr>\n",
       "      <th>8</th>\n",
       "      <td>10253_idx5_x1001_y1501_class0.png</td>\n",
       "      <td>10253</td>\n",
       "      <td>0</td>\n",
       "    </tr>\n",
       "    <tr>\n",
       "      <th>9</th>\n",
       "      <td>10253_idx5_x1001_y1551_class0.png</td>\n",
       "      <td>10253</td>\n",
       "      <td>0</td>\n",
       "    </tr>\n",
       "  </tbody>\n",
       "</table>\n",
       "</div>"
      ],
      "text/plain": [
       "                            image_id patient_id target\n",
       "0  10253_idx5_x1001_y1001_class0.png      10253      0\n",
       "1  10253_idx5_x1001_y1051_class0.png      10253      0\n",
       "2  10253_idx5_x1001_y1101_class0.png      10253      0\n",
       "3  10253_idx5_x1001_y1151_class0.png      10253      0\n",
       "4  10253_idx5_x1001_y1201_class0.png      10253      0\n",
       "5  10253_idx5_x1001_y1251_class0.png      10253      0\n",
       "6  10253_idx5_x1001_y1301_class0.png      10253      0\n",
       "7  10253_idx5_x1001_y1351_class0.png      10253      0\n",
       "8  10253_idx5_x1001_y1501_class0.png      10253      0\n",
       "9  10253_idx5_x1001_y1551_class0.png      10253      0"
      ]
     },
     "execution_count": 7,
     "metadata": {},
     "output_type": "execute_result"
    }
   ],
   "source": [
    "# Each file name has this format:\n",
    "# '14211_idx5_x2401_y1301_class1.png'\n",
    "\n",
    "def extract_patient_id(x):\n",
    "    # split into a list\n",
    "    a = x.split('_')\n",
    "    # the id is the first index in the list\n",
    "    patient_id = a[0]\n",
    "    \n",
    "    return patient_id\n",
    "\n",
    "def extract_target(x):\n",
    "    # split into a list\n",
    "    a = x.split('_')\n",
    "    # the target is part of the string in index 4\n",
    "    b = a[4]\n",
    "    # the ytarget i.e. 1 or 2 is the 5th index of the string --> class1\n",
    "    target = b[5]\n",
    "    return target\n",
    "\n",
    "# extract the patient id\n",
    "\n",
    "# create a new column called 'patient_id'\n",
    "data['patient_id'] = data['image_id'].apply(extract_patient_id)\n",
    "# create a new column called 'target'\n",
    "data['target'] = data['image_id'].apply(extract_target)\n",
    "\n",
    "data.head(10)"
   ]
  },
  {
   "cell_type": "markdown",
   "metadata": {},
   "source": [
    "<p style = \"font-size : 30px; color : white ; font-family : 'Comic Sans MS'; text-align : center; background-color : #00adb5; border-radius: 5px 5px;\"><strong>Exploratory Data Analysis (EDA)</strong></p>\n",
    "<a id = '6.0'></a>"
   ]
  },
  {
   "cell_type": "code",
   "execution_count": 8,
   "metadata": {},
   "outputs": [
    {
     "data": {
      "text/plain": [
       "(277524, 3)"
      ]
     },
     "execution_count": 8,
     "metadata": {},
     "output_type": "execute_result"
    }
   ],
   "source": [
    "data.shape"
   ]
  },
  {
   "cell_type": "code",
   "execution_count": 12,
   "metadata": {},
   "outputs": [
    {
     "name": "stdout",
     "output_type": "stream",
     "text": [
      "<class 'pandas.core.frame.DataFrame'>\n",
      "RangeIndex: 277524 entries, 0 to 277523\n",
      "Data columns (total 3 columns):\n",
      " #   Column      Non-Null Count   Dtype \n",
      "---  ------      --------------   ----- \n",
      " 0   image_id    277524 non-null  object\n",
      " 1   patient_id  277524 non-null  object\n",
      " 2   target      277524 non-null  object\n",
      "dtypes: object(3)\n",
      "memory usage: 6.4+ MB\n"
     ]
    }
   ],
   "source": [
    "data.info()  "
   ]
  },
  {
   "cell_type": "markdown",
   "metadata": {},
   "source": [
    "#### Display a random sample of train images by class\n"
   ]
  },
  {
   "cell_type": "code",
   "execution_count": 9,
   "metadata": {},
   "outputs": [],
   "source": [
    "def draw_category_images(col_name,figure_cols, df, IMAGE_PATH):\n",
    "    \n",
    "    \"\"\"\n",
    "    Give a column in a dataframe,\n",
    "    this function takes a sample of each class and displays that\n",
    "    sample on one row. The sample size is the same as figure_cols which\n",
    "    is the number of columns in the figure.\n",
    "    Because this function takes a random sample, each time the function is run it\n",
    "    displays different images.\n",
    "    \"\"\"\n",
    "    \n",
    "\n",
    "    categories = (df.groupby([col_name])[col_name].nunique()).index\n",
    "    f, ax = plt.subplots(nrows=len(categories),ncols=figure_cols, \n",
    "                         figsize=(4*figure_cols,4*len(categories))) # adjust size here\n",
    "    # draw a number of images for each location\n",
    "    for i, cat in enumerate(categories):\n",
    "        sample = df[df[col_name]==cat].sample(figure_cols) # figure_cols is also the sample size\n",
    "        for j in range(0,figure_cols):\n",
    "            file=IMAGE_PATH + sample.iloc[j]['image_id']\n",
    "            im=cv2.imread(file)\n",
    "            ax[i, j].imshow(im, resample=True, cmap='gray')\n",
    "            ax[i, j].set_title(cat, fontsize=16)  \n",
    "    plt.tight_layout()\n",
    "    plt.show()"
   ]
  },
  {
   "cell_type": "code",
   "execution_count": 10,
   "metadata": {},
   "outputs": [
    {
     "data": {
      "image/png": "[encoded data removed]",
      "text/plain": [
       "<Figure size 1152x576 with 8 Axes>"
      ]
     },
     "metadata": {},
     "output_type": "display_data"
    }
   ],
   "source": [
    "IMAGE_PATH = 'all_images_dir/'\n",
    "\n",
    "draw_category_images('target',4, data, IMAGE_PATH)"
   ]
  },
  {
   "cell_type": "code",
   "execution_count": 11,
   "metadata": {},
   "outputs": [
    {
     "data": {
      "text/plain": [
       "0    198738\n",
       "1     78786\n",
       "Name: target, dtype: int64"
      ]
     },
     "execution_count": 11,
     "metadata": {},
     "output_type": "execute_result"
    }
   ],
   "source": [
    "data['target'].value_counts()"
   ]
  },
  {
   "cell_type": "code",
   "execution_count": 12,
   "metadata": {},
   "outputs": [
    {
     "data": {
      "image/png": "[encoded data removed]",
      "text/plain": [
       "<Figure size 720x216 with 1 Axes>"
      ]
     },
     "metadata": {},
     "output_type": "display_data"
    }
   ],
   "source": [
    "plt.rcParams['figure.figsize'] = (10, 3)\n",
    "sns.countplot(data['target'], palette = 'pink')\n",
    "plt.title('Count Plot of each class(0 , 1)', fontsize = 15)\n",
    "plt.show()"
   ]
  },
  {
   "cell_type": "code",
   "execution_count": 13,
   "metadata": {},
   "outputs": [
    {
     "data": {
      "text/plain": [
       "Text(0.5, 1.0, 'pie Plot of each class(0 , 1)')"
      ]
     },
     "execution_count": 13,
     "metadata": {},
     "output_type": "execute_result"
    },
    {
     "data": {
      "image/png": "[encoded data removed]",
      "text/plain": [
       "<Figure size 720x216 with 1 Axes>"
      ]
     },
     "metadata": {},
     "output_type": "display_data"
    }
   ],
   "source": [
    "plt.rcParams['figure.figsize'] = (10, 3)\n",
    "data[\"target\"].value_counts().plot.pie(autopct = \"%1.1f%%\")\n",
    "plt.title('pie Plot of each class(0 , 1)',size = 20)"
   ]
  },
  {
   "cell_type": "markdown",
   "metadata": {},
   "source": [
    "* It also seems that the number of healthy rays is greater than the number of infected rays"
   ]
  },
  {
   "cell_type": "markdown",
   "metadata": {},
   "source": [
    "### Balance the class distribution\n",
    "* We can see that the class 1 images are higher in number that of class 0\n",
    "\n",
    "* So to prevent this we balance the dataset\n",
    "\n",
    "* We do this so that the Neural Network dose not lean on favouring only one class"
   ]
  },
  {
   "cell_type": "code",
   "execution_count": 14,
   "metadata": {},
   "outputs": [],
   "source": [
    "SAMPLE_SIZE = 78786"
   ]
  },
  {
   "cell_type": "code",
   "execution_count": 15,
   "metadata": {},
   "outputs": [],
   "source": [
    "# take a sample of the majority class 0 (total = 198738)\n",
    "df_0 = data[data['target'] == '0'].sample(SAMPLE_SIZE, random_state=101)\n",
    "# take a sample of class 1 (total = 78786)\n",
    "df_1 = data[data['target'] == '1'].sample(SAMPLE_SIZE, random_state=101)\n",
    "\n",
    "# concat the two dataframes\n",
    "data = pd.concat([df_0, df_1], axis=0).reset_index(drop=True)"
   ]
  },
  {
   "cell_type": "code",
   "execution_count": 16,
   "metadata": {},
   "outputs": [
    {
     "data": {
      "text/plain": [
       "1    78786\n",
       "0    78786\n",
       "Name: target, dtype: int64"
      ]
     },
     "execution_count": 16,
     "metadata": {},
     "output_type": "execute_result"
    }
   ],
   "source": [
    "# Check the new class distribution\n",
    "data['target'].value_counts()"
   ]
  },
  {
   "cell_type": "markdown",
   "metadata": {},
   "source": [
    "<p style = \"font-size : 30px; color : white ; font-family : 'Comic Sans MS'; text-align : center; background-color : #00adb5; border-radius: 5px 5px;\"><strong>Creating train and test sets\n",
    "</strong></p>\n",
    "<a id = '7.0'></a>\n"
   ]
  },
  {
   "cell_type": "code",
   "execution_count": 17,
   "metadata": {},
   "outputs": [
    {
     "name": "stdout",
     "output_type": "stream",
     "text": [
      "(141814, 3)\n",
      "(15758, 3)\n"
     ]
    }
   ],
   "source": [
    "y = data['target']\n",
    "\n",
    "df_train, df_val = train_test_split(data, test_size=0.10, random_state=101, stratify=y)\n",
    "\n",
    "print(df_train.shape)\n",
    "print(df_val.shape)"
   ]
  },
  {
   "cell_type": "code",
   "execution_count": 18,
   "metadata": {},
   "outputs": [
    {
     "data": {
      "text/plain": [
       "1    70907\n",
       "0    70907\n",
       "Name: target, dtype: int64"
      ]
     },
     "execution_count": 18,
     "metadata": {},
     "output_type": "execute_result"
    }
   ],
   "source": [
    "df_train['target'].value_counts()"
   ]
  },
  {
   "cell_type": "code",
   "execution_count": 19,
   "metadata": {},
   "outputs": [
    {
     "data": {
      "text/plain": [
       "0    7879\n",
       "1    7879\n",
       "Name: target, dtype: int64"
      ]
     },
     "execution_count": 19,
     "metadata": {},
     "output_type": "execute_result"
    }
   ],
   "source": [
    "df_val['target'].value_counts()"
   ]
  },
  {
   "cell_type": "markdown",
   "metadata": {},
   "source": [
    "<p style = \"font-size : 30px; color : white ; font-family : 'Comic Sans MS'; text-align : center; background-color : #00adb5; border-radius: 5px 5px;\"><strong>Creating Directory Structure\n",
    "</strong></p>\n",
    "<a id = '8.0'></a>\n"
   ]
  },
  {
   "cell_type": "code",
   "execution_count": 25,
   "metadata": {},
   "outputs": [],
   "source": [
    "# Create a new directory\n",
    "base_dir = 'base_dir'\n",
    "os.mkdir(base_dir)\n",
    "\n",
    "#[CREATE FOLDERS INSIDE THE BASE DIRECTORY]\n",
    "\n",
    "# now we create 2 folders inside 'base_dir':\n",
    "\n",
    "# train_dir\n",
    "    # a_no_idc\n",
    "    # b_has_idc\n",
    "\n",
    "# val_dir\n",
    "    # a_no_idc\n",
    "    # b_has_idc\n",
    "\n",
    "# create a path to 'base_dir' to which we will join the names of the new folders\n",
    "# train_dir\n",
    "train_dir = os.path.join(base_dir, 'train_dir')\n",
    "os.mkdir(train_dir)\n",
    "\n",
    "# val_dir\n",
    "val_dir = os.path.join(base_dir, 'val_dir')\n",
    "os.mkdir(val_dir)\n",
    "\n",
    "\n",
    "# [CREATE FOLDERS INSIDE THE TRAIN AND VALIDATION FOLDERS]\n",
    "# Inside each folder we create seperate folders for each class\n",
    "\n",
    "# create new folders inside train_dir\n",
    "a_no_idc = os.path.join(train_dir, 'a_no_idc')\n",
    "os.mkdir(a_no_idc)\n",
    "b_has_idc = os.path.join(train_dir, 'b_has_idc')\n",
    "os.mkdir(b_has_idc)\n",
    "\n",
    "# create new folders inside val_dir\n",
    "a_no_idc = os.path.join(val_dir, 'a_no_idc')\n",
    "os.mkdir(a_no_idc)\n",
    "b_has_idc = os.path.join(val_dir, 'b_has_idc')\n",
    "os.mkdir(b_has_idc)"
   ]
  },
  {
   "cell_type": "code",
   "execution_count": 26,
   "metadata": {},
   "outputs": [
    {
     "data": {
      "text/plain": [
       "['a_no_idc', 'b_has_idc']"
      ]
     },
     "execution_count": 26,
     "metadata": {},
     "output_type": "execute_result"
    }
   ],
   "source": [
    "# check that the folders have been created\n",
    "os.listdir('base_dir/train_dir')"
   ]
  },
  {
   "cell_type": "markdown",
   "metadata": {},
   "source": [
    "<p style = \"font-size : 30px; color : white ; font-family : 'Comic Sans MS'; text-align : center; background-color : #00adb5; border-radius: 5px 5px;\"><strong>Transfer the images into the folders\n",
    "</strong></p>\n",
    "<a id = '9.0'></a>"
   ]
  },
  {
   "cell_type": "code",
   "execution_count": 27,
   "metadata": {},
   "outputs": [],
   "source": [
    "# Set the id as the index in df_data\n",
    "data.set_index('image_id', inplace=True)"
   ]
  },
  {
   "cell_type": "code",
   "execution_count": 28,
   "metadata": {},
   "outputs": [],
   "source": [
    "# Get a list of train and val images\n",
    "train_list = list(df_train['image_id'])\n",
    "val_list = list(df_val['image_id'])\n",
    "\n",
    "# Transfer the train images\n",
    "\n",
    "for image in train_list:\n",
    "    \n",
    "    # the id in the csv file does not have the .tif extension therefore we add it here\n",
    "    fname = image\n",
    "    # get the label for a certain image\n",
    "    target = data.loc[image,'target']\n",
    "    \n",
    "    # these must match the folder names\n",
    "    if target == '0':\n",
    "        label = 'a_no_idc'\n",
    "    if target == '1':\n",
    "        label = 'b_has_idc'\n",
    "    \n",
    "    # source path to image\n",
    "    src = os.path.join('all_images_dir/', fname)\n",
    "    # destination path to image\n",
    "    dst = os.path.join(train_dir, label, fname)\n",
    "    # move the image from the source to the destination\n",
    "    shutil.move(src, dst)\n",
    "    \n",
    "# Transfer the val images\n",
    "\n",
    "for image in val_list:\n",
    "    \n",
    "    # the id in the csv file does not have the .tif extension therefore we add it here\n",
    "    fname = image\n",
    "    # get the label for a certain image\n",
    "    target = data.loc[image,'target']\n",
    "    \n",
    "    # these must match the folder names\n",
    "    if target == '0':\n",
    "        label = 'a_no_idc'\n",
    "    if target == '1':\n",
    "        label = 'b_has_idc'\n",
    "    \n",
    "\n",
    "    # source path to image\n",
    "    src = os.path.join('all_images_dir/', fname)\n",
    "    # destination path to image\n",
    "    dst = os.path.join(val_dir, label, fname)\n",
    "    # move the image from the source to the destination\n",
    "    shutil.move(src, dst)"
   ]
  },
  {
   "cell_type": "code",
   "execution_count": 20,
   "metadata": {},
   "outputs": [
    {
     "name": "stdout",
     "output_type": "stream",
     "text": [
      "70907\n",
      "70907\n"
     ]
    }
   ],
   "source": [
    "# check how many val images we have in each folder\n",
    "print(len(os.listdir('base_dir/train_dir/a_no_idc')))\n",
    "print(len(os.listdir('base_dir/train_dir/b_has_idc')))"
   ]
  },
  {
   "cell_type": "code",
   "execution_count": 21,
   "metadata": {},
   "outputs": [
    {
     "name": "stdout",
     "output_type": "stream",
     "text": [
      "7879\n",
      "7879\n"
     ]
    }
   ],
   "source": [
    "# check how many val images we have in each folder\n",
    "\n",
    "print(len(os.listdir('base_dir/val_dir/a_no_idc')))\n",
    "print(len(os.listdir('base_dir/val_dir/b_has_idc')))"
   ]
  },
  {
   "cell_type": "markdown",
   "metadata": {},
   "source": [
    "<p style = \"font-size : 30px; color : white ; font-family : 'Comic Sans MS'; text-align : center; background-color : #00adb5; border-radius: 5px 5px;\"><strong>Set Up the Generators\n",
    "</strong></p>\n",
    "<a id = '10.0'></a>\n"
   ]
  },
  {
   "cell_type": "code",
   "execution_count": 22,
   "metadata": {},
   "outputs": [],
   "source": [
    "train_path = 'base_dir/train_dir'\n",
    "valid_path = 'base_dir/val_dir'\n",
    "\n",
    "\n",
    "num_train_samples = len(df_train)\n",
    "num_val_samples = len(df_val)\n",
    "train_batch_size = 10\n",
    "val_batch_size = 10\n",
    "\n",
    "\n",
    "train_steps = np.ceil(num_train_samples / train_batch_size)\n",
    "val_steps = np.ceil(num_val_samples / val_batch_size)"
   ]
  },
  {
   "cell_type": "code",
   "execution_count": 23,
   "metadata": {},
   "outputs": [],
   "source": [
    "IMAGE_SIZE = 25"
   ]
  },
  {
   "cell_type": "code",
   "execution_count": 24,
   "metadata": {},
   "outputs": [],
   "source": [
    "data_generation = ImageDataGenerator(rescale=1.0/255)"
   ]
  },
  {
   "cell_type": "code",
   "execution_count": 25,
   "metadata": {},
   "outputs": [
    {
     "name": "stdout",
     "output_type": "stream",
     "text": [
      "Found 141814 images belonging to 2 classes.\n",
      "Found 15758 images belonging to 2 classes.\n"
     ]
    }
   ],
   "source": [
    "train_generation = data_generation.flow_from_directory(\n",
    "                                        train_path,\n",
    "                                        target_size=(25,25),\n",
    "                                        batch_size=10,\n",
    "                                        class_mode='categorical')\n",
    "test_generation = data_generation.flow_from_directory(\n",
    "                                        valid_path,\n",
    "                                        target_size=(25,25),\n",
    "                                        batch_size=10,\n",
    "                                        class_mode='categorical')"
   ]
  },
  {
   "cell_type": "markdown",
   "metadata": {},
   "source": [
    "<p style = \"font-size : 30px; color : white ; font-family : 'Comic Sans MS'; text-align : center; background-color : #00adb5; border-radius: 5px 5px;\"><strong>Model design\n",
    "</strong></p>\n",
    "<a id = '11.0'></a>\n"
   ]
  },
  {
   "cell_type": "markdown",
   "metadata": {},
   "source": [
    "### Adding the first CNN Layer\n",
    "\n",
    "CNN layer hyper-parameters:\n",
    "\n",
    "    filters: 32\n",
    "    kernel_size:4\n",
    "    padding: same\n",
    "    activation: relu\n",
    "    input_shape: (25, 25, 3)\n",
    "\n",
    "### Adding the second CNN Layer and max pool layer\n",
    "\n",
    "CNN layer hyper-parameters:\n",
    "\n",
    "     filters: 32\n",
    "     kernel_size:4\n",
    "     padding: same\n",
    "     activation: relu\n",
    "     input_shape: (25, 25, 3)\n",
    "\n",
    "MaxPool layer hyper-parameters:\n",
    "\n",
    "    pool_size: 2\n",
    "    strides: 2\n",
    "    padding: valid\n",
    "\n",
    "Dropout: 0.3\n",
    "\n",
    "### Adding the Flatten layer\n",
    "\n",
    "\n",
    "### Adding the first Dense layer\n",
    "\n",
    "Dense layer hyper-parameters:\n",
    "\n",
    "    units/neurons: 256\n",
    "    activation: relu\n",
    "    \n",
    "### Adding the second Dense layer (output layer)\n",
    "\n",
    "Dense layer hyper-parameters:\n",
    "\n",
    "    units/neurons: 2 (number of classes)\n",
    "    activation: softmax"
   ]
  },
  {
   "cell_type": "code",
   "execution_count": 26,
   "metadata": {},
   "outputs": [],
   "source": [
    "my_model =Sequential()\n",
    "my_model.add(Conv2D(filters=32,kernel_size=(4,4),input_shape=(25,25,3),activation='relu'))\n",
    "my_model.add(Conv2D(filters=32,kernel_size=(4,4),input_shape=(25,25,3),activation='relu'))\n",
    "my_model.add(MaxPool2D(pool_size=(2,2)))\n",
    "my_model.add(Dropout(.3))\n",
    "\n",
    "my_model.add(Flatten())\n",
    "\n",
    "my_model.add(Dense(256,activation='relu'))\n",
    "\n",
    "my_model.add(Dense(2,activation='softmax'))\n",
    "\n",
    "my_model.compile(loss = 'categorical_crossentropy', optimizer ='adam', metrics= ['accuracy'])"
   ]
  },
  {
   "cell_type": "code",
   "execution_count": 27,
   "metadata": {},
   "outputs": [
    {
     "name": "stdout",
     "output_type": "stream",
     "text": [
      "Model: \"sequential\"\n",
      "_________________________________________________________________\n",
      " Layer (type)                Output Shape              Param #   \n",
      "=================================================================\n",
      " conv2d (Conv2D)             (None, 22, 22, 32)        1568      \n",
      "                                                                 \n",
      " conv2d_1 (Conv2D)           (None, 19, 19, 32)        16416     \n",
      "                                                                 \n",
      " max_pooling2d (MaxPooling2D  (None, 9, 9, 32)         0         \n",
      " )                                                               \n",
      "                                                                 \n",
      " dropout (Dropout)           (None, 9, 9, 32)          0         \n",
      "                                                                 \n",
      " flatten (Flatten)           (None, 2592)              0         \n",
      "                                                                 \n",
      " dense (Dense)               (None, 256)               663808    \n",
      "                                                                 \n",
      " dense_1 (Dense)             (None, 2)                 514       \n",
      "                                                                 \n",
      "=================================================================\n",
      "Total params: 682,306\n",
      "Trainable params: 682,306\n",
      "Non-trainable params: 0\n",
      "_________________________________________________________________\n"
     ]
    }
   ],
   "source": [
    "my_model.summary()"
   ]
  },
  {
   "cell_type": "markdown",
   "metadata": {},
   "source": [
    "<p style = \"font-size : 30px; color : white ; font-family : 'Comic Sans MS'; text-align : center; background-color : #00adb5; border-radius: 5px 5px;\"><strong>Training the model\n",
    "</strong></p>\n",
    "<a id = '12.0'></a>"
   ]
  },
  {
   "cell_type": "code",
   "execution_count": 28,
   "metadata": {},
   "outputs": [
    {
     "name": "stdout",
     "output_type": "stream",
     "text": [
      "Epoch 1/6\n",
      "14182/14182 [==============================] - 10775s 759ms/step - loss: 0.4893 - accuracy: 0.7758 - val_loss: 0.5392 - val_accuracy: 0.7539\n",
      "Epoch 2/6\n",
      "14182/14182 [==============================] - 9999s 705ms/step - loss: 0.4508 - accuracy: 0.7979 - val_loss: 0.4470 - val_accuracy: 0.7967\n",
      "Epoch 3/6\n",
      "14182/14182 [==============================] - 16710s 1s/step - loss: 0.4387 - accuracy: 0.8042 - val_loss: 0.4070 - val_accuracy: 0.8239\n",
      "Epoch 4/6\n",
      "14182/14182 [==============================] - 4525s 319ms/step - loss: 0.4262 - accuracy: 0.8119 - val_loss: 0.3972 - val_accuracy: 0.8301\n",
      "Epoch 5/6\n",
      "14182/14182 [==============================] - 1591s 112ms/step - loss: 0.4160 - accuracy: 0.8163 - val_loss: 0.3969 - val_accuracy: 0.8278\n",
      "Epoch 6/6\n",
      "14182/14182 [==============================] - 1454s 103ms/step - loss: 0.4098 - accuracy: 0.8204 - val_loss: 0.4146 - val_accuracy: 0.8202\n"
     ]
    },
    {
     "data": {
      "text/plain": [
       "<keras.callbacks.History at 0x1b06cfa63a0>"
      ]
     },
     "execution_count": 28,
     "metadata": {},
     "output_type": "execute_result"
    }
   ],
   "source": [
    "my_model.fit_generator(train_generation,validation_data=test_generation,epochs=6, \n",
    "                       verbose=1)"
   ]
  },
  {
   "cell_type": "markdown",
   "metadata": {},
   "source": [
    "\n"
   ]
  },
  {
   "cell_type": "markdown",
   "metadata": {},
   "source": [
    "<p style = \"font-size : 30px; color : white ; font-family : 'Comic Sans MS'; text-align : center; background-color : #00adb5; border-radius: 5px 5px;\"><strong>Outputs\n",
    "</strong></p>\n",
    "<a id = '13.0'></a>\n"
   ]
  },
  {
   "cell_type": "code",
   "execution_count": 29,
   "metadata": {},
   "outputs": [
    {
     "data": {
      "text/html": [
       "<div>\n",
       "<style scoped>\n",
       "    .dataframe tbody tr th:only-of-type {\n",
       "        vertical-align: middle;\n",
       "    }\n",
       "\n",
       "    .dataframe tbody tr th {\n",
       "        vertical-align: top;\n",
       "    }\n",
       "\n",
       "    .dataframe thead th {\n",
       "        text-align: right;\n",
       "    }\n",
       "</style>\n",
       "<table border=\"1\" class=\"dataframe\">\n",
       "  <thead>\n",
       "    <tr style=\"text-align: right;\">\n",
       "      <th></th>\n",
       "      <th>loss</th>\n",
       "      <th>accuracy</th>\n",
       "      <th>val_loss</th>\n",
       "      <th>val_accuracy</th>\n",
       "    </tr>\n",
       "  </thead>\n",
       "  <tbody>\n",
       "    <tr>\n",
       "      <th>0</th>\n",
       "      <td>0.489314</td>\n",
       "      <td>0.775812</td>\n",
       "      <td>0.539163</td>\n",
       "      <td>0.753903</td>\n",
       "    </tr>\n",
       "    <tr>\n",
       "      <th>1</th>\n",
       "      <td>0.450768</td>\n",
       "      <td>0.797855</td>\n",
       "      <td>0.446972</td>\n",
       "      <td>0.796738</td>\n",
       "    </tr>\n",
       "    <tr>\n",
       "      <th>2</th>\n",
       "      <td>0.438664</td>\n",
       "      <td>0.804215</td>\n",
       "      <td>0.407048</td>\n",
       "      <td>0.823899</td>\n",
       "    </tr>\n",
       "    <tr>\n",
       "      <th>3</th>\n",
       "      <td>0.426201</td>\n",
       "      <td>0.811873</td>\n",
       "      <td>0.397184</td>\n",
       "      <td>0.830055</td>\n",
       "    </tr>\n",
       "    <tr>\n",
       "      <th>4</th>\n",
       "      <td>0.415964</td>\n",
       "      <td>0.816273</td>\n",
       "      <td>0.396930</td>\n",
       "      <td>0.827770</td>\n",
       "    </tr>\n",
       "  </tbody>\n",
       "</table>\n",
       "</div>"
      ],
      "text/plain": [
       "       loss  accuracy  val_loss  val_accuracy\n",
       "0  0.489314  0.775812  0.539163      0.753903\n",
       "1  0.450768  0.797855  0.446972      0.796738\n",
       "2  0.438664  0.804215  0.407048      0.823899\n",
       "3  0.426201  0.811873  0.397184      0.830055\n",
       "4  0.415964  0.816273  0.396930      0.827770"
      ]
     },
     "execution_count": 29,
     "metadata": {},
     "output_type": "execute_result"
    }
   ],
   "source": [
    "losse = pd.DataFrame(my_model.history.history)\n",
    "losse.head()"
   ]
  },
  {
   "cell_type": "markdown",
   "metadata": {},
   "source": [
    "<p style = \"font-size : 30px; color : white ; font-family : 'Comic Sans MS'; text-align : center; background-color : #00adb5; border-radius: 5px 5px;\"><strong>Plot the Training Curves\n",
    "</strong></p>\n",
    "<a id = '14.0'></a>\n"
   ]
  },
  {
   "cell_type": "code",
   "execution_count": 30,
   "metadata": {},
   "outputs": [
    {
     "data": {
      "text/plain": [
       "<AxesSubplot:>"
      ]
     },
     "execution_count": 30,
     "metadata": {},
     "output_type": "execute_result"
    },
    {
     "data": {
      "image/png": "[encoded data removed]",
      "text/plain": [
       "<Figure size 720x216 with 1 Axes>"
      ]
     },
     "metadata": {},
     "output_type": "display_data"
    }
   ],
   "source": [
    "losse[['accuracy','val_accuracy']].plot()"
   ]
  },
  {
   "cell_type": "code",
   "execution_count": 31,
   "metadata": {},
   "outputs": [
    {
     "data": {
      "text/plain": [
       "<AxesSubplot:>"
      ]
     },
     "execution_count": 31,
     "metadata": {},
     "output_type": "execute_result"
    },
    {
     "data": {
      "image/png": "[encoded data removed]",
      "text/plain": [
       "<Figure size 720x216 with 1 Axes>"
      ]
     },
     "metadata": {},
     "output_type": "display_data"
    }
   ],
   "source": [
    "losse[['loss','val_loss']].plot()"
   ]
  },
  {
   "cell_type": "markdown",
   "metadata": {},
   "source": [
    "* Our model have a good acc = 82%"
   ]
  },
  {
   "cell_type": "markdown",
   "metadata": {},
   "source": [
    "<p style = \"font-size : 30px; color : white ; font-family : 'Comic Sans MS'; text-align : center; background-color : #00adb5; border-radius: 5px 5px;\"><strong>Save Model</strong></p>\n",
    "<a id = '15.0'></a>"
   ]
  },
  {
   "cell_type": "code",
   "execution_count": 32,
   "metadata": {},
   "outputs": [],
   "source": [
    "model_json = my_model.to_json()"
   ]
  },
  {
   "cell_type": "code",
   "execution_count": 33,
   "metadata": {},
   "outputs": [
    {
     "name": "stdout",
     "output_type": "stream",
     "text": [
      "Saved model to disk\n"
     ]
    }
   ],
   "source": [
    "with open(\"model.json\", \"w\") as json_file:\n",
    "    json_file.write(model_json)\n",
    "my_model.save_weights(\"model.h5\")\n",
    "print(\"Saved model to disk\")"
   ]
  },
  {
   "cell_type": "code",
   "execution_count": null,
   "metadata": {},
   "outputs": [],
   "source": []
  },
  {
   "cell_type": "code",
   "execution_count": null,
   "metadata": {},
   "outputs": [],
   "source": []
  },
  {
   "cell_type": "code",
   "execution_count": null,
   "metadata": {},
   "outputs": [],
   "source": []
  },
  {
   "cell_type": "code",
   "execution_count": null,
   "metadata": {},
   "outputs": [],
   "source": []
  }
 ],
 "metadata": {
  "kernelspec": {
   "display_name": "Python 3",
   "language": "python",
   "name": "python3"
  },
  "language_info": {
   "codemirror_mode": {
    "name": "ipython",
    "version": 3
   },
   "file_extension": ".py",
   "mimetype": "text/x-python",
   "name": "python",
   "nbconvert_exporter": "python",
   "pygments_lexer": "ipython3",
   "version": "3.8.5"
  }
 },
 "nbformat": 4,
 "nbformat_minor": 4
}
